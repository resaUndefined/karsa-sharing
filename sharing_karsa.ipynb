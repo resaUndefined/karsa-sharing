{
  "nbformat": 4,
  "nbformat_minor": 0,
  "metadata": {
    "colab": {
      "name": "sharing-karsa.ipynb",
      "provenance": [],
      "collapsed_sections": []
    },
    "kernelspec": {
      "name": "python3",
      "display_name": "Python 3"
    }
  },
  "cells": [
    {
      "cell_type": "markdown",
      "metadata": {
        "id": "dOYjHMoFrCqc",
        "colab_type": "text"
      },
      "source": [
        "Contoh Preprosesing untuk Data Teks\n"
      ]
    },
    {
      "cell_type": "code",
      "metadata": {
        "id": "MuTZwjRMk4Mm",
        "colab_type": "code",
        "colab": {
          "base_uri": "https://localhost:8080/",
          "height": 122
        },
        "outputId": "71bd5890-62b5-4fc1-bedb-c485860330d6"
      },
      "source": [
        "!pip install Sastrawi"
      ],
      "execution_count": 17,
      "outputs": [
        {
          "output_type": "stream",
          "text": [
            "Collecting Sastrawi\n",
            "\u001b[?25l  Downloading https://files.pythonhosted.org/packages/6f/4b/bab676953da3103003730b8fcdfadbdd20f333d4add10af949dd5c51e6ed/Sastrawi-1.0.1-py2.py3-none-any.whl (209kB)\n",
            "\u001b[K     |████████████████████████████████| 215kB 2.7MB/s \n",
            "\u001b[?25hInstalling collected packages: Sastrawi\n",
            "Successfully installed Sastrawi-1.0.1\n"
          ],
          "name": "stdout"
        }
      ]
    },
    {
      "cell_type": "code",
      "metadata": {
        "id": "_ClyWSNKljGu",
        "colab_type": "code",
        "colab": {}
      },
      "source": [
        "from Sastrawi.StopWordRemover.StopWordRemoverFactory import StopWordRemoverFactory, StopWordRemover, ArrayDictionary\n",
        "from Sastrawi.Stemmer.StemmerFactory import StemmerFactory\n",
        "from keras.preprocessing.text import Tokenizer"
      ],
      "execution_count": 18,
      "outputs": []
    },
    {
      "cell_type": "code",
      "metadata": {
        "id": "cX0PFJJUlyca",
        "colab_type": "code",
        "colab": {}
      },
      "source": [
        "factory2 = StemmerFactory()\n",
        "stemmer = factory2.create_stemmer()\n",
        "stop_factory = StopWordRemoverFactory().get_stop_words()\n",
        "more_stopword = [\n",
        "    'dengan', 'ia', 'bahwa', 'oleh', 'kepada', 'kpd', 'yth',\n",
        "                    'pemerintah', 'provinsi', 'pt', 'mohon', 'terima', 'kasih',\n",
        "                    'trmksh', 'saya', 'selalu', 'kok', 'belum', 'tidak', 'biasa',\n",
        "                    'ada', 'bantuan', 'bantuannya', 'sy', 'bahwa', 'juga',\n",
        "                    'atas', 'nama', 'mau', 'hari', 'bulan', 'tahun', 'tetapi',\n",
        "                    'ini', 'itu', 'tapi', 'ya', 'tp', 'ngga', 'nggak', 'enggak',\n",
        "                    'akan', 'kata', 'sendiri', 'mengatakan', 'dimana', 'untuk',\n",
        "                    'tersebut', 'sangat', 'sulit', 'hingga', 'di', 'saat', 'dari',\n",
        "                    'kita', 'pada', 'sampai', 'telah', 'pasti', 'saja', 'nah',\n",
        "                    'disaat', 'apabila', 'maka', 'masing', 'masing-masing',\n",
        "                    'namun', 'dr', 'dri', 'karena', 'kan', 'sllu', 'setiap',\n",
        "                    'kemarin', 'kemaren', 'walaupun', 'rencana', 'rokok', 'rekan',\n",
        "                    'ramp', 'rampung', 'ramah', 'tanpa', 'terlalu', 'udah',\n",
        "                    'tiap', 'tiga', 'tgl', 'tolong', 'tentang', 'ternyata',\n",
        "                    'tdk', 'tanyakan', 'tanya', 'tsb', 'trus', 'toyib', 'yang',\n",
        "                    'yg', 'yaitu', 'yuli', 'ya', 'yah', 'yuk', 'your', 'yaa',\n",
        "    'yaaa', 'yaaah', 'yaaaaa', 'yaaaa', 'yacc', 'y', 'univeritas',\n",
        "                     'ujang', 'utk', 'ingin', 'indonesia', 'iva', 'iurang', 'isteri',\n",
        "                     'ingatkan', 'orang', 'padahal', 'pak', 'para', 'pagi',\n",
        "                     'pernah', 'perlu', 'pukul', 'pun', 'punya', 'apakah', 'agar',\n",
        "                     'atau', 'adanya', 'apa', 'adalah', 'ada', 'ataupun', 'akhir',\n",
        "                     'artinya', 'akhirnya', 'ayang', 'arjuna', 'antara', 'angke',\n",
        "                     'aladin', 'sudah', 'sebagai', 'seperti', 'segera', 'sedang',\n",
        "                     'setelah', 'sekarang', 'sebelumnya', 'secara', 'sering',\n",
        "                     'sdh', 'seharusnya', 'sama', 'suka', 'solusinya', 'syahputra',\n",
        "                     'supaya', 'sruh', 'sit', 'sinta', 'dan', 'dapat', 'dalam',\n",
        "                     'duren', 'disini', 'ditambah', 'disana', 'diri', 'disalah',\n",
        "                     'dikarenakan', 'dia', 'dgn', 'dwi', 'drg', 'dong', 'doen',\n",
        "                     'dll', 'fajar', 'green', 'gong', 'gebang', 'harus', 'hal',\n",
        "                     'hendak', 'hormat', 'harinya', 'jika', 'jadi', 'jangan',\n",
        "                     'jelas', 'kami', 'kurang', 'kapan', 'kenapa', 'kec', 'kecamatan',\n",
        "                     'katanya', 'kakak', 'krn', 'kosambi', 'kopi', 'kiri', 'kini',\n",
        "                     'kerata', 'ketika', 'kesana', 'lebih', 'lagi', 'lalu',\n",
        "                     'lanjutnya', 'lain', 'lodan', 'lift?', 'laporan', 'lapor',\n",
        "                     'lainnya', 'lubuk', 'cengkareng', 'cempaka', 'cukup',\n",
        "                     'cirimekar', 'ceger', 'cara', 'cira', 'cina', 'cenderung',\n",
        "                     'cari', 'bisa', 'banyak', 'bagaimana', 'beberapa', 'bagi',\n",
        "                     'bertanya', 'baru', 'berapa', 'baik', 'bagian', 'banyaknya',\n",
        "                     'bukan', 'buka', 'buaya', 'boleh', 'bernama', 'berapakah',\n",
        "                     'berada', 'bilang', 'begitu', 'bahkan', 'nya', 'nyata',\n",
        "                     'nikita', 'noka', 'nanya', 'ngurah', 'ngasih', 'namum',\n",
        "                     'namanya', 'masih', 'melakukan', 'mereka', 'merokok',\n",
        "                     'memang', 'mana', 'malam', 'misal', 'melporkan', 'mdr',\n",
        "                     'mas', 'mangga', 'mungkin', 'mundu', 'menurut'\n",
        "]\n",
        "data = stop_factory + more_stopword\n",
        "dictionary = ArrayDictionary(data)\n",
        "stopword = StopWordRemover(dictionary)"
      ],
      "execution_count": null,
      "outputs": []
    },
    {
      "cell_type": "code",
      "metadata": {
        "id": "ylxclZnQmEWr",
        "colab_type": "code",
        "colab": {}
      },
      "source": [
        "nama_file = \"dataset_sms.csv\"\n",
        "data = []\n",
        "label = []\n",
        "with open(nama_file, 'r') as csvfile:\n",
        "    reader = csv.reader(csvfile, delimiter=';',quoting=csv.QUOTE_NONE)\n",
        "    next(reader)  # skip header\n",
        "    for row in reader:\n",
        "        data.append(row[0])\n",
        "        label.append(row[1])\n",
        "data[5]"
      ],
      "execution_count": null,
      "outputs": []
    },
    {
      "cell_type": "code",
      "metadata": {
        "id": "agVTXIcQ4W2l",
        "colab_type": "code",
        "colab": {}
      },
      "source": [
        "data = \"Saya mahasiswa Universitas Negeri Jakarta. ingin menanyakan untuk pencairan beasiswa PPA DIKTI 2018 periode pertama Januari- Juni ?\"\n",
        "print(data)"
      ],
      "execution_count": null,
      "outputs": []
    },
    {
      "cell_type": "code",
      "metadata": {
        "id": "4tEkr1bc6Mef",
        "colab_type": "code",
        "colab": {}
      },
      "source": [
        "# casefolding\n",
        "nonKapital = data.lower()\n",
        "nonKapital"
      ],
      "execution_count": null,
      "outputs": []
    },
    {
      "cell_type": "code",
      "metadata": {
        "id": "dRLo15Ge6XWD",
        "colab_type": "code",
        "colab": {}
      },
      "source": [
        "# remove illegal string\n",
        "bersih = nonKapital.translate(str.maketrans('', '', string.punctuation))\n",
        "bersih"
      ],
      "execution_count": null,
      "outputs": []
    },
    {
      "cell_type": "code",
      "metadata": {
        "id": "LG26jp5s6c7g",
        "colab_type": "code",
        "colab": {}
      },
      "source": [
        "# stoppword\n",
        "stop = stopword.remove(bersih)\n",
        "stop"
      ],
      "execution_count": null,
      "outputs": []
    },
    {
      "cell_type": "code",
      "metadata": {
        "id": "ww-ewUhe7voD",
        "colab_type": "code",
        "colab": {}
      },
      "source": [
        "# steeming\n",
        "kataDasar = stemmer.stem(stop)\n",
        "kataDasar"
      ],
      "execution_count": null,
      "outputs": []
    },
    {
      "cell_type": "code",
      "metadata": {
        "id": "Jk--_hR_8bVs",
        "colab_type": "code",
        "colab": {}
      },
      "source": [
        "tokenizer = Tokenizer()\n",
        "hasilToken = tokenizer.fit_on_texts(kataDasar)\n",
        "hasilToken = tokenizer.texts_to_sequences(kataDasar)\n",
        "X_enc_train = tokenizer.sequences_to_matrix(hasilToken, mode=\"tfidf\")\n",
        "print(hasilToken)\n",
        "print(X_enc_train)"
      ],
      "execution_count": null,
      "outputs": []
    },
    {
      "cell_type": "markdown",
      "metadata": {
        "id": "OXWPJxMiqsxb",
        "colab_type": "text"
      },
      "source": [
        "Klustering ritel cola dengan K-Means"
      ]
    },
    {
      "cell_type": "code",
      "metadata": {
        "id": "wQoLjszxqqbe",
        "colab_type": "code",
        "colab": {}
      },
      "source": [
        "import pandas as pd\n",
        "import numpy as np\n",
        "import matplotlib.pyplot as plt\n",
        "import seaborn as sns\n",
        "sns.set()\n",
        "from sklearn.cluster import KMeans\n",
        "from sklearn.preprocessing import MinMaxScaler"
      ],
      "execution_count": 76,
      "outputs": []
    },
    {
      "cell_type": "code",
      "metadata": {
        "id": "VFLbqT9o8wyH",
        "colab_type": "code",
        "colab": {}
      },
      "source": [
        "dataRitel = pd.read_csv('ritel_cola.csv')\n",
        "dataRitel"
      ],
      "execution_count": null,
      "outputs": []
    },
    {
      "cell_type": "code",
      "metadata": {
        "id": "H_fvlBTb-_y2",
        "colab_type": "code",
        "colab": {}
      },
      "source": [
        "sns.scatterplot(x=\"Latitude\", y=\"Longitude\", data=dataRitel, s=100, color=\"blue\", alpha = 0.5)"
      ],
      "execution_count": null,
      "outputs": []
    },
    {
      "cell_type": "code",
      "metadata": {
        "id": "--RRLtDA_o1s",
        "colab_type": "code",
        "colab": {}
      },
      "source": [
        "#menentukan variabel kluster\n",
        "dataRitel_x = dataRitel.iloc[:, 2:4]\n",
        "dataRitel_x.head()\n",
        "#membuat array\n",
        "x_array =  np.array(dataRitel_x)\n",
        "print(x_array)"
      ],
      "execution_count": null,
      "outputs": []
    },
    {
      "cell_type": "code",
      "metadata": {
        "id": "exFhIzCoAdLS",
        "colab_type": "code",
        "colab": {}
      },
      "source": [
        "# menstandarkan ukuran variabel\n",
        "scaler = MinMaxScaler()\n",
        "x_scaled = scaler.fit_transform(x_array)\n",
        "# membuat fungsi k-means\n",
        "kmeans = KMeans(n_clusters = 5, random_state=123)\n",
        "# Menentukan kluster dari data\n",
        "kmeans.fit(x_scaled)"
      ],
      "execution_count": null,
      "outputs": []
    },
    {
      "cell_type": "code",
      "metadata": {
        "id": "RiBIf9uBAkIk",
        "colab_type": "code",
        "colab": {}
      },
      "source": [
        "print(kmeans.cluster_centers_)"
      ],
      "execution_count": null,
      "outputs": []
    },
    {
      "cell_type": "code",
      "metadata": {
        "id": "88JGDMOHXkIz",
        "colab_type": "code",
        "colab": {}
      },
      "source": [
        "print(kmeans.labels_)"
      ],
      "execution_count": null,
      "outputs": []
    },
    {
      "cell_type": "code",
      "metadata": {
        "id": "TKxr5zzeXwRB",
        "colab_type": "code",
        "colab": {}
      },
      "source": [
        "dataRitel[\"kluster\"] = kmeans.labels_\n",
        "dataRitel.head()"
      ],
      "execution_count": null,
      "outputs": []
    },
    {
      "cell_type": "code",
      "metadata": {
        "id": "MyNsthau41n5",
        "colab_type": "code",
        "colab": {}
      },
      "source": [
        "plt.figsct = plt.scatter(x_scaled[:,1], x_scaled[:,0], s = 100, c = dataRitel.kluster, marker = \"o\", alpha = 0.5)\n",
        "centers = kmeans.cluster_centers_\n",
        "plt.scatter(centers[:,1], centers[:,0], c='blue', s=200, alpha=0.5);\n",
        "plt.title(\"Hasil Klustering K-Means\")\n",
        "plt.xlabel(\"Scaled Longitude\")\n",
        "plt.ylabel(\"Scaled Latitude\")\n",
        "plt.show()"
      ],
      "execution_count": null,
      "outputs": []
    },
    {
      "cell_type": "code",
      "metadata": {
        "id": "aiWwADKl5Daw",
        "colab_type": "code",
        "colab": {}
      },
      "source": [
        "plt.figure(figsize=[10,10])\n",
        "sns.scatterplot(x_scaled[:,1], x_scaled[:,0], hue = dataRitel.kluster, palette=\"Set1\", s = 100, alpha = 0.7)\n",
        "sns.scatterplot(centers[:,1], centers[:,0], color = \"k\", s = 200, alpha = 0.8);"
      ],
      "execution_count": null,
      "outputs": []
    },
    {
      "cell_type": "markdown",
      "metadata": {
        "id": "DP08cImp6LEo",
        "colab_type": "text"
      },
      "source": [
        "Evaluation"
      ]
    },
    {
      "cell_type": "code",
      "metadata": {
        "id": "iV7wQOIF5TiS",
        "colab_type": "code",
        "colab": {}
      },
      "source": [
        "sse = []\n",
        "list_k = list(range(1, 10))\n",
        "\n",
        "for k in list_k:\n",
        "    km = KMeans(n_clusters=k)\n",
        "    km.fit(x_scaled)\n",
        "    sse.append(km.inertia_)"
      ],
      "execution_count": 114,
      "outputs": []
    },
    {
      "cell_type": "code",
      "metadata": {
        "id": "bTd8I4q65sg3",
        "colab_type": "code",
        "colab": {}
      },
      "source": [
        "# Plot sse against k\n",
        "plt.figure(figsize=(6, 6))\n",
        "plt.plot(list_k, sse, '-o')\n",
        "plt.xlabel(r'Number of clusters *k*')\n",
        "plt.ylabel('Sum of squared distance');"
      ],
      "execution_count": null,
      "outputs": []
    },
    {
      "cell_type": "code",
      "metadata": {
        "id": "TIhWBXGG6A3a",
        "colab_type": "code",
        "colab": {}
      },
      "source": [
        ""
      ],
      "execution_count": 116,
      "outputs": []
    }
  ]
}